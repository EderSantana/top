{
 "metadata": {
  "name": "",
  "signature": "sha256:13ed5f96e8d2cc1a55ac77bbaed67da86cc3ff49213bdf644c69ea05df29c654"
 },
 "nbformat": 3,
 "nbformat_minor": 0,
 "worksheets": [
  {
   "cells": [
    {
     "cell_type": "code",
     "collapsed": false,
     "input": [
      "import top\n",
      "'''\n",
      "This example does not work with Bokeh plots yet.\n",
      "Bokeh don't let us change the plots outsite the main thread.\n",
      "I'd love to have both iteractive and beautiful d3-based graphs,\n",
      "if you have a solution, please let me know.\n",
      "'''\n",
      "top.bokeh = None\n",
      "import theano\n",
      "import theano.tensor as tensor\n",
      "from top.dataset_iterator import (Pylearn2DatasetGenerator,\n",
      "                                  Pylearn2OldGenerator,\n",
      "                                  NumpyDatasetGenerator)\n",
      "%matplotlib inline\n",
      "import matplotlib.pyplot as plt\n",
      "import numpy as np\n",
      "from IPython import display"
     ],
     "language": "python",
     "metadata": {},
     "outputs": [
      {
       "output_type": "stream",
       "stream": "stderr",
       "text": [
        "Using gpu device 0: GeForce GTX 680\n",
        "/home/eders/Copy/python/top/top/optimizer.py:16: UserWarning: Bokeh not available, we may have touse matplotlib for plotting. This may not be the best idea, please try to `pip install bokeh` instead.\n",
        "  warnings.warn('Bokeh not available, we may have touse matplotlib for plotting. This may not be the best idea, please try to `pip install bokeh` instead.')\n"
       ]
      }
     ],
     "prompt_number": 1
    },
    {
     "cell_type": "code",
     "collapsed": false,
     "input": [
      "# Random dataset\n",
      "dataset = np.random.normal(0,1,(10000,1000))\n",
      "# target = 0 if sum>.5 else 1\n",
      "target  = 0. + (np.dot(dataset, np.ones((1000,1)))>.5)\n",
      "dataset_generator = NumpyDatasetGenerator(\n",
      "                          dataset=(dataset, target),\n",
      "                          batch_size=100\n",
      "                          )\n",
      "W  = theano.shared(np.random.normal(0,1,(1000,1)).astype(top.up.floatX))\n",
      "X, T = tensor.matrices('X', 'Y')\n",
      "Y = tensor.nnet.sigmoid(tensor.dot(X,W))\n",
      "cost = tensor.nnet.binary_crossentropy(Y, T).mean()\n",
      "opt = top.Optimizer(W, cost, input=[X,T], method='sgd', learning_rate=.005, ipython_display=display)\n",
      "#print W.get_value()"
     ],
     "language": "python",
     "metadata": {},
     "outputs": [],
     "prompt_number": 2
    },
    {
     "cell_type": "code",
     "collapsed": false,
     "input": [
      "from IPython.html.widgets import interact\n",
      "import threading\n",
      "import theano\n",
      "import theano.tensor as T\n",
      "\n",
      "'''\n",
      "Define which variables you want to iteract with as a theano function and \n",
      "pass that function as an IPythonhtml.widgets.iteract update\n",
      "'''\n",
      "newlr = T.scalar()\n",
      "uplr = theano.function([newlr],[],updates={opt.lr: newlr})\n",
      "def update(learning_rate=0.00001):\n",
      "    uplr(learning_rate)"
     ],
     "language": "python",
     "metadata": {},
     "outputs": [],
     "prompt_number": 3
    },
    {
     "cell_type": "code",
     "collapsed": false,
     "input": [
      "class OPT(threading.Thread):\n",
      "    '''Wrap the main loop as a thread'''\n",
      "    def run(self):\n",
      "        opt.iterate_epochs(1000, dataset_generator)\n",
      "        print 'Finish!!!'\n",
      "        print W.get_value()\n",
      "\n",
      "_ = interact(update, learning_rate=(0.00001,.01,0.00005))    \n",
      "OPT().start()\n",
      "#opt.iterate_epochs(1000, dataset_generator)"
     ],
     "language": "python",
     "metadata": {},
     "outputs": [
      {
       "metadata": {},
       "output_type": "display_data",
       "png": "[encoded data removed]",
       "text": [
        "<matplotlib.figure.Figure at 0x7f2df8173610>"
       ]
      }
     ],
     "prompt_number": 4
    },
    {
     "cell_type": "code",
     "collapsed": false,
     "input": [],
     "language": "python",
     "metadata": {},
     "outputs": []
    }
   ],
   "metadata": {}
  }
 ]
}